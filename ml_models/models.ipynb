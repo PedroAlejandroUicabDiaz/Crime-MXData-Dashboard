{
 "cells": [
  {
   "cell_type": "code",
   "execution_count": null,
   "metadata": {},
   "outputs": [],
   "source": []
  }
 ],
 "metadata": {
  "kernelspec": {
   "display_name": "Python 3.10.6 ('CrimeMX')",
   "language": "python",
   "name": "python3"
  },
  "language_info": {
   "name": "python",
   "version": "3.10.6"
  },
  "orig_nbformat": 4,
  "vscode": {
   "interpreter": {
    "hash": "e84885aa1f717c400c9f3fd59612dcc8f430147f89dce8b70f7dd79f406c9f77"
   }
  }
 },
 "nbformat": 4,
 "nbformat_minor": 2
}
